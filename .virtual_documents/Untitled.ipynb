


import pandas as pd
import numpy as np
import scipy.signal
import scipy.stats
import matplotlib.pyplot as plt


def diag_frame(frame): # to retain indeces when diagonalizing
    frame_diag = pd.DataFrame(np.diagflat(frame))
    frame_diag.index = frame_diag.columns = frame.index
    return frame_diag

def convolve_frame(in1, in2, mode='full', boundary='fill', fillvalue=0):
    convolution = pd.DataFrame(scipy.signal.convolve2d(in1, in2, 
                                                       mode=mode,
                                                       boundary=boundary, 
                                                       fillvalue=fillvalue))
    convolution.index += in1.index[0]
    convolution.columns += in1.columns[0]
    return convolution





datafile = 'In-class tutorials/MFA_II_tutorial_II.xlsx'

data = pd.read_excel(datafile, sheet_name='inflow_driven',index_col=0)
t_0, t_max = data.index[[0,-1]]


inflows = data.loc[:,'inflow']





# Normally distributed survival curve
curve_mean = 30
curve_sd = curve_mean / 3
surv_curve = scipy.stats.norm.sf(np.arange(0,t_max-t_0),
                                 loc=curve_mean, scale=curve_sd)
lifetime_curve = scipy.stats.norm.pdf(np.arange(0,t_max-t_0),
                                      loc=curve_mean, scale=curve_sd)

plt.plot(surv_curve)
plt.show()





in_mat = diag_frame(inflows)

stock_by_cohort = convolve_frame(diag_frame(inflows),
                                 surv_curve.reshape(-1,1))

out_by_cohort = convolve_frame(diag_frame(inflows),
                               lifetime_curve.reshape(-1,1))


out_mat


out_mat



